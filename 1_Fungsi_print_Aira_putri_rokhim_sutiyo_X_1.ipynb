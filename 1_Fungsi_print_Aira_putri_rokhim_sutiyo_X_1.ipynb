{
  "nbformat": 4,
  "nbformat_minor": 0,
  "metadata": {
    "colab": {
      "provenance": [],
      "authorship_tag": "ABX9TyNaG/m+wHlasS7dbbFZQWq/",
      "include_colab_link": true
    },
    "kernelspec": {
      "name": "python3",
      "display_name": "Python 3"
    },
    "language_info": {
      "name": "python"
    }
  },
  "cells": [
    {
      "cell_type": "markdown",
      "metadata": {
        "id": "view-in-github",
        "colab_type": "text"
      },
      "source": [
        "<a href=\"https://colab.research.google.com/github/levinezee77-web/KKA-X-Semester-1-Airaputri/blob/main/1_Fungsi_print_Aira_putri_rokhim_sutiyo_X_1.ipynb\" target=\"_parent\"><img src=\"https://colab.research.google.com/assets/colab-badge.svg\" alt=\"Open In Colab\"/></a>"
      ]
    },
    {
      "cell_type": "markdown",
      "source": [
        "#Aira putri rokhim sutiyo"
      ],
      "metadata": {
        "id": "agnrznzh2zaG"
      }
    },
    {
      "cell_type": "code",
      "source": [
        "nama_panjang =   \"Aira putri rokhim sutiyo\"\n",
        "\n",
        "print  (  nama_panjang  )"
      ],
      "metadata": {
        "colab": {
          "base_uri": "https://localhost:8080/"
        },
        "id": "5N76dix88jZr",
        "outputId": "3b23b751-4982-45d9-9c38-cb37bca2d67c"
      },
      "execution_count": null,
      "outputs": [
        {
          "output_type": "stream",
          "name": "stdout",
          "text": [
            "Aira putri rokhim sutiyo\n"
          ]
        }
      ]
    },
    {
      "cell_type": "code",
      "source": [
        "nama_idola = \"Nabi Muhammad\"\n",
        "\n",
        "print(nama_idola)"
      ],
      "metadata": {
        "colab": {
          "base_uri": "https://localhost:8080/"
        },
        "id": "x48SyD2j8-zo",
        "outputId": "e3f95a47-e3e0-4cdf-fe13-72660a95e822"
      },
      "execution_count": null,
      "outputs": [
        {
          "output_type": "stream",
          "name": "stdout",
          "text": [
            "Nabi Muhammad\n"
          ]
        }
      ]
    },
    {
      "cell_type": "code",
      "source": [
        "usia = 65\n",
        "\n",
        "print(usia)"
      ],
      "metadata": {
        "colab": {
          "base_uri": "https://localhost:8080/"
        },
        "id": "-p0ninM99g3B",
        "outputId": "218bf3e9-e2d3-47f8-fdb8-a51b9a766340"
      },
      "execution_count": null,
      "outputs": [
        {
          "output_type": "stream",
          "name": "stdout",
          "text": [
            "65\n"
          ]
        }
      ]
    },
    {
      "cell_type": "code",
      "execution_count": null,
      "metadata": {
        "colab": {
          "base_uri": "https://localhost:8080/"
        },
        "id": "5Zr3nU_R138v",
        "outputId": "b321fa1b-e671-4101-9c4c-7ae97c520bfa"
      },
      "outputs": [
        {
          "output_type": "stream",
          "name": "stdout",
          "text": [
            "Nuril dan safira\n"
          ]
        }
      ],
      "source": [
        "nama_saudara = \"Cahyo dan berlin\"\n",
        "\n",
        "print(nama_saudara)"
      ]
    },
    {
      "cell_type": "markdown",
      "source": [],
      "metadata": {
        "id": "2e6rvIx1PSkY"
      }
    },
    {
      "cell_type": "code",
      "source": [
        "jumlah_saudara = 2\n",
        "\n",
        "print(jumlah_saudara)"
      ],
      "metadata": {
        "colab": {
          "base_uri": "https://localhost:8080/"
        },
        "id": "QWNx5ahuPXEY",
        "outputId": "2f1e56c7-a975-4f41-aa9e-5e5f1e70ac7a"
      },
      "execution_count": null,
      "outputs": [
        {
          "output_type": "stream",
          "name": "stdout",
          "text": [
            "2\n"
          ]
        }
      ]
    },
    {
      "cell_type": "markdown",
      "source": [
        "#Menampilkan Nilai Variabel dan String"
      ],
      "metadata": {
        "id": "SlREtUwn2V3H"
      }
    },
    {
      "cell_type": "code",
      "source": [
        "print(\"Nama idola saya adalah\",nama_idola,\". Usianya adalah\",usia,\"tahun.\")"
      ],
      "metadata": {
        "colab": {
          "base_uri": "https://localhost:8080/"
        },
        "id": "-Qlkc2Vq27XZ",
        "outputId": "b86e1249-2864-47d6-abfe-0aba2db6dfae"
      },
      "execution_count": null,
      "outputs": [
        {
          "output_type": "stream",
          "name": "stdout",
          "text": [
            "Nama idola saya adalah Nabi Muhammad . Usianya adalah 65 tahun.\n"
          ]
        }
      ]
    },
    {
      "cell_type": "code",
      "source": [
        "print(\"Nama idola saya adalah \"+nama_idola+\". Usianya adalah \"+str(usia)+\" tahun.\")"
      ],
      "metadata": {
        "colab": {
          "base_uri": "https://localhost:8080/"
        },
        "id": "zjLrOfqZ5tjt",
        "outputId": "0d0fc0b1-df4e-4aa3-cbe3-04ded6c37ec9"
      },
      "execution_count": null,
      "outputs": [
        {
          "output_type": "stream",
          "name": "stdout",
          "text": [
            "Nama idola saya adalah Nabi Muhammad. Usianya adalah 65 tahun.\n"
          ]
        }
      ]
    },
    {
      "cell_type": "code",
      "source": [
        "print(f\"Nama idola saya adalah {nama_idola}. Usianya adalah {usia} tahun.\")"
      ],
      "metadata": {
        "colab": {
          "base_uri": "https://localhost:8080/"
        },
        "id": "H0PZcViH67VS",
        "outputId": "e7460343-f893-46a1-e2c2-1c7923491162"
      },
      "execution_count": null,
      "outputs": [
        {
          "output_type": "stream",
          "name": "stdout",
          "text": [
            "Nama idola saya adalah Nabi Muhammad. Usianya adalah 65 tahun.\n"
          ]
        }
      ]
    },
    {
      "cell_type": "markdown",
      "source": [
        "#Escape character"
      ],
      "metadata": {
        "id": "0jkVzC_R9heB"
      }
    },
    {
      "cell_type": "code",
      "source": [
        "print(\"Nama: Aira\")\n",
        "print(\"Kelas: X.1\")\n",
        "print(\"No. Absen: 2\")"
      ],
      "metadata": {
        "colab": {
          "base_uri": "https://localhost:8080/"
        },
        "id": "10uru2eJ9kvE",
        "outputId": "4f0fa941-9f72-4fd3-d487-48e10bf39a58"
      },
      "execution_count": null,
      "outputs": [
        {
          "output_type": "stream",
          "name": "stdout",
          "text": [
            "Nama: Aira\n",
            "Kelas: X.1\n",
            "No. Absen: 2\n"
          ]
        }
      ]
    },
    {
      "cell_type": "code",
      "source": [
        "print(\"Nama: Aira\\nKelas: X.1\\nNo. Absen: 2\")"
      ],
      "metadata": {
        "colab": {
          "base_uri": "https://localhost:8080/"
        },
        "id": "T5cu0rc_-QB3",
        "outputId": "5fa89b89-516d-4ebf-9134-31ca1fe17e46"
      },
      "execution_count": null,
      "outputs": [
        {
          "output_type": "stream",
          "name": "stdout",
          "text": [
            "Nama: Aira\n",
            "Kelas: X.1\n",
            "No. Absen: 2\n"
          ]
        }
      ]
    },
    {
      "cell_type": "code",
      "source": [
        "print(\"\"\"Nama\\t\\t: Aira\n",
        "kelas\\t\\t: X.1\n",
        "No. Absen\\t:29\"\"\")"
      ],
      "metadata": {
        "colab": {
          "base_uri": "https://localhost:8080/"
        },
        "id": "rcdpNSiT-i2N",
        "outputId": "11b3451e-ab96-4699-f3c9-5a1e5d080a3e"
      },
      "execution_count": null,
      "outputs": [
        {
          "output_type": "stream",
          "name": "stdout",
          "text": [
            "Nama\t\t: Aira\n",
            "kelas\t\t: X.1\n",
            "No. Absen\t:29\n"
          ]
        }
      ]
    },
    {
      "cell_type": "code",
      "source": [
        "print(\"nama saya Aira putri\")"
      ],
      "metadata": {
        "colab": {
          "base_uri": "https://localhost:8080/"
        },
        "id": "y4bwKEbKiNTN",
        "outputId": "de83da64-01fa-4095-e63d-4d68b686c30d"
      },
      "execution_count": null,
      "outputs": [
        {
          "output_type": "stream",
          "name": "stdout",
          "text": [
            "nama saya Aira putri\n"
          ]
        }
      ]
    },
    {
      "cell_type": "code",
      "source": [
        "print('nama saya Aira putri')"
      ],
      "metadata": {
        "colab": {
          "base_uri": "https://localhost:8080/"
        },
        "id": "5XMHUelsiXGA",
        "outputId": "05e21fd4-1b0b-4f22-e587-3913d4f5160e"
      },
      "execution_count": null,
      "outputs": [
        {
          "output_type": "stream",
          "name": "stdout",
          "text": [
            "nama saya Aira putri\n"
          ]
        }
      ]
    },
    {
      "cell_type": "code",
      "source": [
        "print(\"nama saya Aira putri'\")"
      ],
      "metadata": {
        "colab": {
          "base_uri": "https://localhost:8080/"
        },
        "id": "rxibf-3cidip",
        "outputId": "fa2c580b-d563-465c-a032-80e737eab24e"
      },
      "execution_count": null,
      "outputs": [
        {
          "output_type": "stream",
          "name": "stdout",
          "text": [
            "nama saya Aira putri'\n"
          ]
        }
      ]
    },
    {
      "cell_type": "code",
      "source": [
        "print(\"Aira berkata \\\"Bismillah\\\"\")"
      ],
      "metadata": {
        "colab": {
          "base_uri": "https://localhost:8080/"
        },
        "id": "QEW4Rltbie3Z",
        "outputId": "2a688a09-3e17-41ee-cd0e-ea338a688e2a"
      },
      "execution_count": null,
      "outputs": [
        {
          "output_type": "stream",
          "name": "stdout",
          "text": [
            "Aira berkata \"Bismillah\"\n"
          ]
        }
      ]
    },
    {
      "cell_type": "code",
      "source": [
        "print(\"Silakan simpan file tugas KKA di folder disk D:\\\\MAN Demak\\\\KKA\\\\Tugas\")"
      ],
      "metadata": {
        "colab": {
          "base_uri": "https://localhost:8080/"
        },
        "id": "rb-2zFVJjRtq",
        "outputId": "58db31ad-2f99-482b-9946-9a43345ac2ac"
      },
      "execution_count": null,
      "outputs": [
        {
          "output_type": "stream",
          "name": "stdout",
          "text": [
            "Silakan simpan file tugas KKA di folder disk D:\\MAN Demak\\KKA\\Tugas\n"
          ]
        }
      ]
    },
    {
      "cell_type": "code",
      "source": [
        "\"\"\"\n",
        "\n",
        "Latihan soal:\n",
        "\n",
        "Gunakan escape character!\n",
        "Tampilkan teks seperti dibawah ini:\n",
        "\n",
        "Bu Shinta berkata, \"Berikut adalah daftar piket harian kelas X.2 yang disimpan di file D:\\MAN Demak\\Jadwal Piket:\n",
        "\n",
        "Senin   Selasa   Rabu\n",
        "Jielo   Hasbi    Naufal\n",
        "Azam    A'Inun   Nurul"
      ],
      "metadata": {
        "id": "RtTQt7o8jvoY"
      },
      "execution_count": null,
      "outputs": []
    },
    {
      "cell_type": "code",
      "source": [
        "print ( \"\"\"Bu shinta berkata, \\\"berikut adalah daftar pike t harian kelas X.2 yang disimpan di file D:\\\\MAN D emak\\\\Jadwal piket:\n",
        "\n",
        "Senin\\t\\t Selasa\\t\\t Rabu\n",
        "Jielo\\t\\t Hasbi\\t Naufal\n",
        "Azam\\t A'imun Nurul\"\"\" )"
      ],
      "metadata": {
        "colab": {
          "base_uri": "https://localhost:8080/"
        },
        "id": "Ih0xLOsVkoll",
        "outputId": "86a33bac-0a96-47be-e23f-c4edf953fc1e"
      },
      "execution_count": null,
      "outputs": [
        {
          "output_type": "stream",
          "name": "stdout",
          "text": [
            "Bu shinta berkata, \"berikut adalah daftar piket harian kelas X.2 yang disimpan di file D:\\MAN Demak\\Jadwal piket:\n",
            "\n",
            "Senin\t\t Selasa\t\t  Rabu\n",
            "Jielo\t\t Hasbi\t    Naufal\n",
            "Azam\t    A'imun     Nurul\n"
          ]
        }
      ]
    },
    {
      "cell_type": "code",
      "source": [
        "nama_siswa_1 = \"Disa\"\n",
        "nama_siswa_2 = \"Dias\"\n",
        "\n",
        "print(nama_siswa_1, end=\" \")\n",
        "print(nama_siswa_2)"
      ],
      "metadata": {
        "colab": {
          "base_uri": "https://localhost:8080/"
        },
        "id": "5qJMzoQ5pD_T",
        "outputId": "38d35c95-bb75-43a6-e69d-7a46c4dd29da"
      },
      "execution_count": null,
      "outputs": [
        {
          "output_type": "stream",
          "name": "stdout",
          "text": [
            "Disa Dias\n"
          ]
        }
      ]
    },
    {
      "cell_type": "code",
      "source": [
        "print(nama_siswa_1, nama_siswa_2)"
      ],
      "metadata": {
        "colab": {
          "base_uri": "https://localhost:8080/"
        },
        "id": "2TftR_Q6pfSV",
        "outputId": "b2ebcde7-164f-4f3f-de6f-2d90edf9b903"
      },
      "execution_count": null,
      "outputs": [
        {
          "output_type": "stream",
          "name": "stdout",
          "text": [
            "Dias Disa\n"
          ]
        }
      ]
    },
    {
      "cell_type": "code",
      "source": [
        "print ( nama_siswa_1 ,  nama_siswa_2 ,  sep=\"/\")"
      ],
      "metadata": {
        "colab": {
          "base_uri": "https://localhost:8080/"
        },
        "id": "TdpmvmAGqLH-",
        "outputId": "26b1ec5a-3734-421a-bacc-cd1bf5fccc52"
      },
      "execution_count": null,
      "outputs": [
        {
          "output_type": "stream",
          "name": "stdout",
          "text": [
            "Dias-Disa\n"
          ]
        }
      ]
    },
    {
      "cell_type": "code",
      "source": [
        "nama_siswa_1 =  \"kinan\"\n",
        "nama_siswa_2 =  \"azka\"\n",
        "nama_siswa_3 =  \"naufal\"\n",
        "nama_siswa_4 =  \"ridho\"\n",
        "print ( nama_siswa_1 ,  nama_siswa_2 ,  nama_siswa_3 ,  nama_siswa_4 ,  sep= \"/\" )"
      ],
      "metadata": {
        "colab": {
          "base_uri": "https://localhost:8080/"
        },
        "id": "Eqjt0yiusmXQ",
        "outputId": "81e606e9-2d79-4a29-8a0a-791d9ed850e0"
      },
      "execution_count": null,
      "outputs": [
        {
          "output_type": "stream",
          "name": "stdout",
          "text": [
            "kinan/azka/naufal/ridho\n"
          ]
        }
      ]
    },
    {
      "cell_type": "code",
      "source": [
        "print ( nama_siswa_1 ,  end= \"*\" )\n",
        "print ( nama_siswa_2 ,  end= \"*\" )\n",
        "print ( nama_siswa_3 ,  end= \"*\" )\n",
        "print ( nama_siswa_4 ,  end= \"*\" )"
      ],
      "metadata": {
        "colab": {
          "base_uri": "https://localhost:8080/"
        },
        "id": "DOVqsdg_xCUR",
        "outputId": "b00178b4-8e17-4821-b8cf-78220610a973"
      },
      "execution_count": null,
      "outputs": [
        {
          "output_type": "stream",
          "name": "stdout",
          "text": [
            "kinan*azka*naufal*ridho*"
          ]
        }
      ]
    }
  ]
}